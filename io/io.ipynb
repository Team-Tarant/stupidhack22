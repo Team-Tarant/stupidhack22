{
 "cells": [
  {
   "cell_type": "code",
   "execution_count": 30,
   "metadata": {},
   "outputs": [],
   "source": [
    "\n",
    "import time\n",
    "import serial\n",
    "import usb.core\n",
    "import usb.util\n",
    "from evdev import InputDevice, categorize, ecodes\n",
    "import keyboard"
   ]
  },
  {
   "cell_type": "code",
   "execution_count": 2,
   "metadata": {},
   "outputs": [],
   "source": [
    "ser = serial.Serial(\n",
    "        port='/dev/ttyS0', #Replace ttyS0 with ttyAM0 for Pi1,Pi2,Pi0\n",
    "        baudrate = 115200,\n",
    "        parity=serial.PARITY_NONE,\n",
    "        stopbits=serial.STOPBITS_ONE,\n",
    "        bytesize=serial.EIGHTBITS,\n",
    "        timeout=1\n",
    ")"
   ]
  },
  {
   "cell_type": "code",
   "execution_count": 3,
   "metadata": {},
   "outputs": [],
   "source": [
    "counter = 0"
   ]
  },
  {
   "cell_type": "code",
   "execution_count": 4,
   "metadata": {},
   "outputs": [
    {
     "data": {
      "text/plain": [
       "12"
      ]
     },
     "execution_count": 4,
     "metadata": {},
     "output_type": "execute_result"
    }
   ],
   "source": [
    "ser.write(str.encode('fucking shit'))"
   ]
  },
  {
   "cell_type": "code",
   "execution_count": 5,
   "metadata": {},
   "outputs": [],
   "source": [
    "devs = usb.core.find(find_all=1)"
   ]
  },
  {
   "cell_type": "code",
   "execution_count": 6,
   "metadata": {},
   "outputs": [
    {
     "data": {
      "text/plain": [
       "[<DEVICE ID 1d6b:0003 on Bus 002 Address 001>,\n",
       " <DEVICE ID 046d:c52b on Bus 001 Address 003>,\n",
       " <DEVICE ID 2109:3431 on Bus 001 Address 002>,\n",
       " <DEVICE ID 1d6b:0002 on Bus 001 Address 001>]"
      ]
     },
     "execution_count": 6,
     "metadata": {},
     "output_type": "execute_result"
    }
   ],
   "source": [
    "list(devs)"
   ]
  },
  {
   "cell_type": "code",
   "execution_count": 7,
   "metadata": {},
   "outputs": [
    {
     "ename": "USBError",
     "evalue": "[Errno 16] Resource busy",
     "output_type": "error",
     "traceback": [
      "\u001b[0;31m---------------------------------------------------------------------------\u001b[0m",
      "\u001b[0;31mUSBError\u001b[0m                                  Traceback (most recent call last)",
      "\u001b[1;32m/home/pi/stupidhack22/io.ipynb Cell 7'\u001b[0m in \u001b[0;36m<cell line: 3>\u001b[0;34m()\u001b[0m\n\u001b[1;32m      <a href='vscode-notebook-cell://ssh-remote%2B192.168.43.232/home/pi/stupidhack22/io.ipynb#ch0000006vscode-remote?line=0'>1</a>\u001b[0m dev \u001b[39m=\u001b[39m usb\u001b[39m.\u001b[39mcore\u001b[39m.\u001b[39mfind(idVendor\u001b[39m=\u001b[39m\u001b[39m0x046d\u001b[39m, idProduct\u001b[39m=\u001b[39m\u001b[39m0xc52b\u001b[39m)\n\u001b[1;32m      <a href='vscode-notebook-cell://ssh-remote%2B192.168.43.232/home/pi/stupidhack22/io.ipynb#ch0000006vscode-remote?line=1'>2</a>\u001b[0m \u001b[39mif\u001b[39;00m dev \u001b[39mis\u001b[39;00m \u001b[39mNone\u001b[39;00m: \u001b[39mraise\u001b[39;00m \u001b[39mValueError\u001b[39;00m(\u001b[39m\"\u001b[39m\u001b[39mDevice not found\u001b[39m\u001b[39m\"\u001b[39m)\n\u001b[0;32m----> <a href='vscode-notebook-cell://ssh-remote%2B192.168.43.232/home/pi/stupidhack22/io.ipynb#ch0000006vscode-remote?line=2'>3</a>\u001b[0m dev\u001b[39m.\u001b[39;49mset_configuration()\n\u001b[1;32m      <a href='vscode-notebook-cell://ssh-remote%2B192.168.43.232/home/pi/stupidhack22/io.ipynb#ch0000006vscode-remote?line=3'>4</a>\u001b[0m endpoint \u001b[39m=\u001b[39m device[\u001b[39m0\u001b[39m][(\u001b[39m0\u001b[39m,\u001b[39m0\u001b[39m)][\u001b[39m0\u001b[39m]\n\u001b[1;32m      <a href='vscode-notebook-cell://ssh-remote%2B192.168.43.232/home/pi/stupidhack22/io.ipynb#ch0000006vscode-remote?line=4'>5</a>\u001b[0m \u001b[39mfor\u001b[39;00m attempts \u001b[39min\u001b[39;00m xrange(\u001b[39m10\u001b[39m):\n",
      "File \u001b[0;32m~/.local/lib/python3.9/site-packages/usb/core.py:915\u001b[0m, in \u001b[0;36mDevice.set_configuration\u001b[0;34m(self, configuration)\u001b[0m\n\u001b[1;32m    <a href='file:///home/pi/.local/lib/python3.9/site-packages/usb/core.py?line=905'>906</a>\u001b[0m \u001b[39mdef\u001b[39;00m \u001b[39mset_configuration\u001b[39m(\u001b[39mself\u001b[39m, configuration \u001b[39m=\u001b[39m \u001b[39mNone\u001b[39;00m):\n\u001b[1;32m    <a href='file:///home/pi/.local/lib/python3.9/site-packages/usb/core.py?line=906'>907</a>\u001b[0m     \u001b[39mr\u001b[39m\u001b[39m\"\"\"Set the active configuration.\u001b[39;00m\n\u001b[1;32m    <a href='file:///home/pi/.local/lib/python3.9/site-packages/usb/core.py?line=907'>908</a>\u001b[0m \n\u001b[1;32m    <a href='file:///home/pi/.local/lib/python3.9/site-packages/usb/core.py?line=908'>909</a>\u001b[0m \u001b[39m    The configuration parameter is the bConfigurationValue field of the\u001b[39;00m\n\u001b[0;32m   (...)\u001b[0m\n\u001b[1;32m    <a href='file:///home/pi/.local/lib/python3.9/site-packages/usb/core.py?line=912'>913</a>\u001b[0m \u001b[39m    without arguments is enough to get the device ready.\u001b[39;00m\n\u001b[1;32m    <a href='file:///home/pi/.local/lib/python3.9/site-packages/usb/core.py?line=913'>914</a>\u001b[0m \u001b[39m    \"\"\"\u001b[39;00m\n\u001b[0;32m--> <a href='file:///home/pi/.local/lib/python3.9/site-packages/usb/core.py?line=914'>915</a>\u001b[0m     \u001b[39mself\u001b[39;49m\u001b[39m.\u001b[39;49m_ctx\u001b[39m.\u001b[39;49mmanaged_set_configuration(\u001b[39mself\u001b[39;49m, configuration)\n",
      "File \u001b[0;32m~/.local/lib/python3.9/site-packages/usb/core.py:113\u001b[0m, in \u001b[0;36msynchronized.<locals>.wrapper\u001b[0;34m(self, *args, **kwargs)\u001b[0m\n\u001b[1;32m    <a href='file:///home/pi/.local/lib/python3.9/site-packages/usb/core.py?line=110'>111</a>\u001b[0m \u001b[39mtry\u001b[39;00m:\n\u001b[1;32m    <a href='file:///home/pi/.local/lib/python3.9/site-packages/usb/core.py?line=111'>112</a>\u001b[0m     \u001b[39mself\u001b[39m\u001b[39m.\u001b[39mlock\u001b[39m.\u001b[39macquire()\n\u001b[0;32m--> <a href='file:///home/pi/.local/lib/python3.9/site-packages/usb/core.py?line=112'>113</a>\u001b[0m     \u001b[39mreturn\u001b[39;00m f(\u001b[39mself\u001b[39;49m, \u001b[39m*\u001b[39;49margs, \u001b[39m*\u001b[39;49m\u001b[39m*\u001b[39;49mkwargs)\n\u001b[1;32m    <a href='file:///home/pi/.local/lib/python3.9/site-packages/usb/core.py?line=113'>114</a>\u001b[0m \u001b[39mfinally\u001b[39;00m:\n\u001b[1;32m    <a href='file:///home/pi/.local/lib/python3.9/site-packages/usb/core.py?line=114'>115</a>\u001b[0m     \u001b[39mself\u001b[39m\u001b[39m.\u001b[39mlock\u001b[39m.\u001b[39mrelease()\n",
      "File \u001b[0;32m~/.local/lib/python3.9/site-packages/usb/core.py:159\u001b[0m, in \u001b[0;36m_ResourceManager.managed_set_configuration\u001b[0;34m(self, device, config)\u001b[0m\n\u001b[1;32m    <a href='file:///home/pi/.local/lib/python3.9/site-packages/usb/core.py?line=155'>156</a>\u001b[0m     \u001b[39mraise\u001b[39;00m \u001b[39mValueError\u001b[39;00m(\u001b[39m\"\u001b[39m\u001b[39mInvalid configuration \u001b[39m\u001b[39m\"\u001b[39m \u001b[39m+\u001b[39m \u001b[39mstr\u001b[39m(config))\n\u001b[1;32m    <a href='file:///home/pi/.local/lib/python3.9/site-packages/usb/core.py?line=157'>158</a>\u001b[0m \u001b[39mself\u001b[39m\u001b[39m.\u001b[39mmanaged_open()\n\u001b[0;32m--> <a href='file:///home/pi/.local/lib/python3.9/site-packages/usb/core.py?line=158'>159</a>\u001b[0m \u001b[39mself\u001b[39;49m\u001b[39m.\u001b[39;49mbackend\u001b[39m.\u001b[39;49mset_configuration(\u001b[39mself\u001b[39;49m\u001b[39m.\u001b[39;49mhandle, cfg\u001b[39m.\u001b[39;49mbConfigurationValue)\n\u001b[1;32m    <a href='file:///home/pi/.local/lib/python3.9/site-packages/usb/core.py?line=160'>161</a>\u001b[0m \u001b[39m# cache the index instead of the object to avoid cyclic references\u001b[39;00m\n\u001b[1;32m    <a href='file:///home/pi/.local/lib/python3.9/site-packages/usb/core.py?line=161'>162</a>\u001b[0m \u001b[39m# of the device and Configuration (Device tracks the _ResourceManager,\u001b[39;00m\n\u001b[1;32m    <a href='file:///home/pi/.local/lib/python3.9/site-packages/usb/core.py?line=162'>163</a>\u001b[0m \u001b[39m# which tracks the Configuration, which tracks the Device)\u001b[39;00m\n\u001b[1;32m    <a href='file:///home/pi/.local/lib/python3.9/site-packages/usb/core.py?line=163'>164</a>\u001b[0m \u001b[39mself\u001b[39m\u001b[39m.\u001b[39m_active_cfg_index \u001b[39m=\u001b[39m cfg\u001b[39m.\u001b[39mindex\n",
      "File \u001b[0;32m~/.local/lib/python3.9/site-packages/usb/backend/libusb1.py:812\u001b[0m, in \u001b[0;36m_LibUSB.set_configuration\u001b[0;34m(self, dev_handle, config_value)\u001b[0m\n\u001b[1;32m    <a href='file:///home/pi/.local/lib/python3.9/site-packages/usb/backend/libusb1.py?line=809'>810</a>\u001b[0m \u001b[39m@methodtrace\u001b[39m(_logger)\n\u001b[1;32m    <a href='file:///home/pi/.local/lib/python3.9/site-packages/usb/backend/libusb1.py?line=810'>811</a>\u001b[0m \u001b[39mdef\u001b[39;00m \u001b[39mset_configuration\u001b[39m(\u001b[39mself\u001b[39m, dev_handle, config_value):\n\u001b[0;32m--> <a href='file:///home/pi/.local/lib/python3.9/site-packages/usb/backend/libusb1.py?line=811'>812</a>\u001b[0m     _check(\u001b[39mself\u001b[39;49m\u001b[39m.\u001b[39;49mlib\u001b[39m.\u001b[39;49mlibusb_set_configuration(dev_handle\u001b[39m.\u001b[39;49mhandle, config_value))\n",
      "File \u001b[0;32m~/.local/lib/python3.9/site-packages/usb/backend/libusb1.py:604\u001b[0m, in \u001b[0;36m_check\u001b[0;34m(ret)\u001b[0m\n\u001b[1;32m    <a href='file:///home/pi/.local/lib/python3.9/site-packages/usb/backend/libusb1.py?line=601'>602</a>\u001b[0m         \u001b[39mraise\u001b[39;00m USBTimeoutError(_strerror(ret), ret, _libusb_errno[ret])\n\u001b[1;32m    <a href='file:///home/pi/.local/lib/python3.9/site-packages/usb/backend/libusb1.py?line=602'>603</a>\u001b[0m     \u001b[39melse\u001b[39;00m:\n\u001b[0;32m--> <a href='file:///home/pi/.local/lib/python3.9/site-packages/usb/backend/libusb1.py?line=603'>604</a>\u001b[0m         \u001b[39mraise\u001b[39;00m USBError(_strerror(ret), ret, _libusb_errno[ret])\n\u001b[1;32m    <a href='file:///home/pi/.local/lib/python3.9/site-packages/usb/backend/libusb1.py?line=605'>606</a>\u001b[0m \u001b[39mreturn\u001b[39;00m ret\n",
      "\u001b[0;31mUSBError\u001b[0m: [Errno 16] Resource busy"
     ]
    }
   ],
   "source": [
    "dev = usb.core.find(idVendor=0x046d, idProduct=0xc52b)\n",
    "if dev is None: raise ValueError(\"Device not found\")\n",
    "dev.set_configuration()\n",
    "endpoint = device[0][(0,0)][0]\n",
    "for attempts in xrange(10):\n",
    "    try:\n",
    "        data = device.read(endpoint.bEndpointAddress, endpoint.wMaxPacketSize)\n",
    "    except:\n",
    "        data = None\n",
    "if data is None: raise RuntimeError(\"no data found\")\n",
    "print('got data', data)"
   ]
  },
  {
   "cell_type": "code",
   "execution_count": null,
   "metadata": {},
   "outputs": [],
   "source": [
    "ser.write(str.encode('fucking shit'))"
   ]
  },
  {
   "cell_type": "code",
   "execution_count": 26,
   "metadata": {},
   "outputs": [
    {
     "name": "stdout",
     "output_type": "stream",
     "text": [
      "1\n",
      "0\n",
      "1\n",
      "0\n",
      "1\n",
      "0\n",
      "1\n",
      "0\n",
      "1\n",
      "0\n",
      "1\n",
      "0\n",
      "1\n",
      "0\n",
      "1\n",
      "0\n"
     ]
    },
    {
     "ename": "KeyboardInterrupt",
     "evalue": "",
     "output_type": "error",
     "traceback": [
      "\u001b[0;31m---------------------------------------------------------------------------\u001b[0m",
      "\u001b[0;31mKeyboardInterrupt\u001b[0m                         Traceback (most recent call last)",
      "\u001b[1;32m/home/pi/stupidhack22/io.ipynb Cell 9'\u001b[0m in \u001b[0;36m<cell line: 2>\u001b[0;34m()\u001b[0m\n\u001b[1;32m      <a href='vscode-notebook-cell://ssh-remote%2B192.168.43.232/home/pi/stupidhack22/io.ipynb#ch0000007vscode-remote?line=0'>1</a>\u001b[0m device \u001b[39m=\u001b[39m InputDevice(\u001b[39m\"\u001b[39m\u001b[39m/dev/input/event2\u001b[39m\u001b[39m\"\u001b[39m) \u001b[39m# my keyboard\u001b[39;00m\n\u001b[0;32m----> <a href='vscode-notebook-cell://ssh-remote%2B192.168.43.232/home/pi/stupidhack22/io.ipynb#ch0000007vscode-remote?line=1'>2</a>\u001b[0m \u001b[39mfor\u001b[39;00m event \u001b[39min\u001b[39;00m device\u001b[39m.\u001b[39mread_loop():\n\u001b[1;32m      <a href='vscode-notebook-cell://ssh-remote%2B192.168.43.232/home/pi/stupidhack22/io.ipynb#ch0000007vscode-remote?line=2'>3</a>\u001b[0m     \u001b[39mif\u001b[39;00m event\u001b[39m.\u001b[39mtype \u001b[39m==\u001b[39m ecodes\u001b[39m.\u001b[39mEV_KEY:\n\u001b[1;32m      <a href='vscode-notebook-cell://ssh-remote%2B192.168.43.232/home/pi/stupidhack22/io.ipynb#ch0000007vscode-remote?line=3'>4</a>\u001b[0m         \u001b[39mprint\u001b[39m(event\u001b[39m.\u001b[39mvalue)\n",
      "File \u001b[0;32m~/.local/lib/python3.9/site-packages/evdev/eventio.py:45\u001b[0m, in \u001b[0;36mEventIO.read_loop\u001b[0;34m(self)\u001b[0m\n\u001b[1;32m     <a href='file:///home/pi/.local/lib/python3.9/site-packages/evdev/eventio.py?line=39'>40</a>\u001b[0m \u001b[39m'''\u001b[39;00m\n\u001b[1;32m     <a href='file:///home/pi/.local/lib/python3.9/site-packages/evdev/eventio.py?line=40'>41</a>\u001b[0m \u001b[39mEnter an endless :func:`select.select()` loop that yields input events.\u001b[39;00m\n\u001b[1;32m     <a href='file:///home/pi/.local/lib/python3.9/site-packages/evdev/eventio.py?line=41'>42</a>\u001b[0m \u001b[39m'''\u001b[39;00m\n\u001b[1;32m     <a href='file:///home/pi/.local/lib/python3.9/site-packages/evdev/eventio.py?line=43'>44</a>\u001b[0m \u001b[39mwhile\u001b[39;00m \u001b[39mTrue\u001b[39;00m:\n\u001b[0;32m---> <a href='file:///home/pi/.local/lib/python3.9/site-packages/evdev/eventio.py?line=44'>45</a>\u001b[0m     r, w, x \u001b[39m=\u001b[39m select\u001b[39m.\u001b[39;49mselect([\u001b[39mself\u001b[39;49m\u001b[39m.\u001b[39;49mfd], [], [])\n\u001b[1;32m     <a href='file:///home/pi/.local/lib/python3.9/site-packages/evdev/eventio.py?line=45'>46</a>\u001b[0m     \u001b[39mfor\u001b[39;00m event \u001b[39min\u001b[39;00m \u001b[39mself\u001b[39m\u001b[39m.\u001b[39mread():\n\u001b[1;32m     <a href='file:///home/pi/.local/lib/python3.9/site-packages/evdev/eventio.py?line=46'>47</a>\u001b[0m         \u001b[39myield\u001b[39;00m event\n",
      "\u001b[0;31mKeyboardInterrupt\u001b[0m: "
     ]
    }
   ],
   "source": [
    "device = InputDevice(\"/dev/input/event2\") # my keyboard\n",
    "for event in device.read_loop():\n",
    "    if event.type == ecodes.EV_KEY:\n",
    "        print(event.value)"
   ]
  },
  {
   "cell_type": "code",
   "execution_count": 32,
   "metadata": {},
   "outputs": [],
   "source": [
    "asdf = \"asdf\""
   ]
  },
  {
   "cell_type": "code",
   "execution_count": 35,
   "metadata": {},
   "outputs": [
    {
     "name": "stdout",
     "output_type": "stream",
     "text": [
      "paska\n"
     ]
    }
   ],
   "source": [
    "if \"a\" in asdf:\n",
    "    print(\"paska\")"
   ]
  },
  {
   "cell_type": "code",
   "execution_count": 31,
   "metadata": {},
   "outputs": [
    {
     "ename": "ImportError",
     "evalue": "You must be root to use this library on linux.",
     "output_type": "error",
     "traceback": [
      "\u001b[0;31m---------------------------------------------------------------------------\u001b[0m",
      "\u001b[0;31mImportError\u001b[0m                               Traceback (most recent call last)",
      "\u001b[1;32m/home/pi/stupidhack22/io.ipynb Cell 10'\u001b[0m in \u001b[0;36m<cell line: 2>\u001b[0;34m()\u001b[0m\n\u001b[1;32m      <a href='vscode-notebook-cell://ssh-remote%2B192.168.43.232/home/pi/stupidhack22/io.ipynb#ch0000008vscode-remote?line=0'>1</a>\u001b[0m \u001b[39mwhile\u001b[39;00m \u001b[39mTrue\u001b[39;00m:\n\u001b[0;32m----> <a href='vscode-notebook-cell://ssh-remote%2B192.168.43.232/home/pi/stupidhack22/io.ipynb#ch0000008vscode-remote?line=1'>2</a>\u001b[0m     \u001b[39mif\u001b[39;00m keyboard\u001b[39m.\u001b[39;49mread_key() \u001b[39m==\u001b[39m \u001b[39m\"\u001b[39m\u001b[39mp\u001b[39m\u001b[39m\"\u001b[39m:\n\u001b[1;32m      <a href='vscode-notebook-cell://ssh-remote%2B192.168.43.232/home/pi/stupidhack22/io.ipynb#ch0000008vscode-remote?line=2'>3</a>\u001b[0m         \u001b[39mprint\u001b[39m(\u001b[39m\"\u001b[39m\u001b[39mYou pressed p\u001b[39m\u001b[39m\"\u001b[39m)\n\u001b[1;32m      <a href='vscode-notebook-cell://ssh-remote%2B192.168.43.232/home/pi/stupidhack22/io.ipynb#ch0000008vscode-remote?line=3'>4</a>\u001b[0m         \u001b[39mbreak\u001b[39;00m\n",
      "File \u001b[0;32m~/.local/lib/python3.9/site-packages/keyboard/__init__.py:935\u001b[0m, in \u001b[0;36mread_key\u001b[0;34m(suppress)\u001b[0m\n\u001b[1;32m    <a href='file:///home/pi/.local/lib/python3.9/site-packages/keyboard/__init__.py?line=929'>930</a>\u001b[0m \u001b[39mdef\u001b[39;00m \u001b[39mread_key\u001b[39m(suppress\u001b[39m=\u001b[39m\u001b[39mFalse\u001b[39;00m):\n\u001b[1;32m    <a href='file:///home/pi/.local/lib/python3.9/site-packages/keyboard/__init__.py?line=930'>931</a>\u001b[0m     \u001b[39m\"\"\"\u001b[39;00m\n\u001b[1;32m    <a href='file:///home/pi/.local/lib/python3.9/site-packages/keyboard/__init__.py?line=931'>932</a>\u001b[0m \u001b[39m    Blocks until a keyboard event happens, then returns that event's name or,\u001b[39;00m\n\u001b[1;32m    <a href='file:///home/pi/.local/lib/python3.9/site-packages/keyboard/__init__.py?line=932'>933</a>\u001b[0m \u001b[39m    if missing, its scan code.\u001b[39;00m\n\u001b[1;32m    <a href='file:///home/pi/.local/lib/python3.9/site-packages/keyboard/__init__.py?line=933'>934</a>\u001b[0m \u001b[39m    \"\"\"\u001b[39;00m\n\u001b[0;32m--> <a href='file:///home/pi/.local/lib/python3.9/site-packages/keyboard/__init__.py?line=934'>935</a>\u001b[0m     event \u001b[39m=\u001b[39m read_event(suppress)\n\u001b[1;32m    <a href='file:///home/pi/.local/lib/python3.9/site-packages/keyboard/__init__.py?line=935'>936</a>\u001b[0m     \u001b[39mreturn\u001b[39;00m event\u001b[39m.\u001b[39mname \u001b[39mor\u001b[39;00m event\u001b[39m.\u001b[39mscan_code\n",
      "File \u001b[0;32m~/.local/lib/python3.9/site-packages/keyboard/__init__.py:924\u001b[0m, in \u001b[0;36mread_event\u001b[0;34m(suppress)\u001b[0m\n\u001b[1;32m    <a href='file:///home/pi/.local/lib/python3.9/site-packages/keyboard/__init__.py?line=919'>920</a>\u001b[0m \u001b[39m\"\"\"\u001b[39;00m\n\u001b[1;32m    <a href='file:///home/pi/.local/lib/python3.9/site-packages/keyboard/__init__.py?line=920'>921</a>\u001b[0m \u001b[39mBlocks until a keyboard event happens, then returns that event.\u001b[39;00m\n\u001b[1;32m    <a href='file:///home/pi/.local/lib/python3.9/site-packages/keyboard/__init__.py?line=921'>922</a>\u001b[0m \u001b[39m\"\"\"\u001b[39;00m\n\u001b[1;32m    <a href='file:///home/pi/.local/lib/python3.9/site-packages/keyboard/__init__.py?line=922'>923</a>\u001b[0m queue \u001b[39m=\u001b[39m _queue\u001b[39m.\u001b[39mQueue(maxsize\u001b[39m=\u001b[39m\u001b[39m1\u001b[39m)\n\u001b[0;32m--> <a href='file:///home/pi/.local/lib/python3.9/site-packages/keyboard/__init__.py?line=923'>924</a>\u001b[0m hooked \u001b[39m=\u001b[39m hook(queue\u001b[39m.\u001b[39;49mput, suppress\u001b[39m=\u001b[39;49msuppress)\n\u001b[1;32m    <a href='file:///home/pi/.local/lib/python3.9/site-packages/keyboard/__init__.py?line=924'>925</a>\u001b[0m \u001b[39mwhile\u001b[39;00m \u001b[39mTrue\u001b[39;00m:\n\u001b[1;32m    <a href='file:///home/pi/.local/lib/python3.9/site-packages/keyboard/__init__.py?line=925'>926</a>\u001b[0m     event \u001b[39m=\u001b[39m queue\u001b[39m.\u001b[39mget()\n",
      "File \u001b[0;32m~/.local/lib/python3.9/site-packages/keyboard/__init__.py:461\u001b[0m, in \u001b[0;36mhook\u001b[0;34m(callback, suppress, on_remove)\u001b[0m\n\u001b[1;32m    <a href='file:///home/pi/.local/lib/python3.9/site-packages/keyboard/__init__.py?line=457'>458</a>\u001b[0m \u001b[39melse\u001b[39;00m:\n\u001b[1;32m    <a href='file:///home/pi/.local/lib/python3.9/site-packages/keyboard/__init__.py?line=458'>459</a>\u001b[0m     append, remove \u001b[39m=\u001b[39m _listener\u001b[39m.\u001b[39madd_handler, _listener\u001b[39m.\u001b[39mremove_handler\n\u001b[0;32m--> <a href='file:///home/pi/.local/lib/python3.9/site-packages/keyboard/__init__.py?line=460'>461</a>\u001b[0m append(callback)\n\u001b[1;32m    <a href='file:///home/pi/.local/lib/python3.9/site-packages/keyboard/__init__.py?line=461'>462</a>\u001b[0m \u001b[39mdef\u001b[39;00m \u001b[39mremove_\u001b[39m():\n\u001b[1;32m    <a href='file:///home/pi/.local/lib/python3.9/site-packages/keyboard/__init__.py?line=462'>463</a>\u001b[0m     \u001b[39mdel\u001b[39;00m _hooks[callback]\n",
      "File \u001b[0;32m~/.local/lib/python3.9/site-packages/keyboard/_generic.py:67\u001b[0m, in \u001b[0;36mGenericListener.add_handler\u001b[0;34m(self, handler)\u001b[0m\n\u001b[1;32m     <a href='file:///home/pi/.local/lib/python3.9/site-packages/keyboard/_generic.py?line=61'>62</a>\u001b[0m \u001b[39mdef\u001b[39;00m \u001b[39madd_handler\u001b[39m(\u001b[39mself\u001b[39m, handler):\n\u001b[1;32m     <a href='file:///home/pi/.local/lib/python3.9/site-packages/keyboard/_generic.py?line=62'>63</a>\u001b[0m     \u001b[39m\"\"\"\u001b[39;00m\n\u001b[1;32m     <a href='file:///home/pi/.local/lib/python3.9/site-packages/keyboard/_generic.py?line=63'>64</a>\u001b[0m \u001b[39m    Adds a function to receive each event captured, starting the capturing\u001b[39;00m\n\u001b[1;32m     <a href='file:///home/pi/.local/lib/python3.9/site-packages/keyboard/_generic.py?line=64'>65</a>\u001b[0m \u001b[39m    process if necessary.\u001b[39;00m\n\u001b[1;32m     <a href='file:///home/pi/.local/lib/python3.9/site-packages/keyboard/_generic.py?line=65'>66</a>\u001b[0m \u001b[39m    \"\"\"\u001b[39;00m\n\u001b[0;32m---> <a href='file:///home/pi/.local/lib/python3.9/site-packages/keyboard/_generic.py?line=66'>67</a>\u001b[0m     \u001b[39mself\u001b[39;49m\u001b[39m.\u001b[39;49mstart_if_necessary()\n\u001b[1;32m     <a href='file:///home/pi/.local/lib/python3.9/site-packages/keyboard/_generic.py?line=67'>68</a>\u001b[0m     \u001b[39mself\u001b[39m\u001b[39m.\u001b[39mhandlers\u001b[39m.\u001b[39mappend(handler)\n",
      "File \u001b[0;32m~/.local/lib/python3.9/site-packages/keyboard/_generic.py:35\u001b[0m, in \u001b[0;36mGenericListener.start_if_necessary\u001b[0;34m(self)\u001b[0m\n\u001b[1;32m     <a href='file:///home/pi/.local/lib/python3.9/site-packages/keyboard/_generic.py?line=32'>33</a>\u001b[0m \u001b[39mtry\u001b[39;00m:\n\u001b[1;32m     <a href='file:///home/pi/.local/lib/python3.9/site-packages/keyboard/_generic.py?line=33'>34</a>\u001b[0m     \u001b[39mif\u001b[39;00m \u001b[39mnot\u001b[39;00m \u001b[39mself\u001b[39m\u001b[39m.\u001b[39mlistening:\n\u001b[0;32m---> <a href='file:///home/pi/.local/lib/python3.9/site-packages/keyboard/_generic.py?line=34'>35</a>\u001b[0m         \u001b[39mself\u001b[39;49m\u001b[39m.\u001b[39;49minit()\n\u001b[1;32m     <a href='file:///home/pi/.local/lib/python3.9/site-packages/keyboard/_generic.py?line=36'>37</a>\u001b[0m         \u001b[39mself\u001b[39m\u001b[39m.\u001b[39mlistening \u001b[39m=\u001b[39m \u001b[39mTrue\u001b[39;00m\n\u001b[1;32m     <a href='file:///home/pi/.local/lib/python3.9/site-packages/keyboard/_generic.py?line=37'>38</a>\u001b[0m         \u001b[39mself\u001b[39m\u001b[39m.\u001b[39mlistening_thread \u001b[39m=\u001b[39m Thread(target\u001b[39m=\u001b[39m\u001b[39mself\u001b[39m\u001b[39m.\u001b[39mlisten)\n",
      "File \u001b[0;32m~/.local/lib/python3.9/site-packages/keyboard/__init__.py:196\u001b[0m, in \u001b[0;36m_KeyboardListener.init\u001b[0;34m(self)\u001b[0m\n\u001b[1;32m    <a href='file:///home/pi/.local/lib/python3.9/site-packages/keyboard/__init__.py?line=194'>195</a>\u001b[0m \u001b[39mdef\u001b[39;00m \u001b[39minit\u001b[39m(\u001b[39mself\u001b[39m):\n\u001b[0;32m--> <a href='file:///home/pi/.local/lib/python3.9/site-packages/keyboard/__init__.py?line=195'>196</a>\u001b[0m     _os_keyboard\u001b[39m.\u001b[39;49minit()\n\u001b[1;32m    <a href='file:///home/pi/.local/lib/python3.9/site-packages/keyboard/__init__.py?line=197'>198</a>\u001b[0m     \u001b[39mself\u001b[39m\u001b[39m.\u001b[39mactive_modifiers \u001b[39m=\u001b[39m \u001b[39mset\u001b[39m()\n\u001b[1;32m    <a href='file:///home/pi/.local/lib/python3.9/site-packages/keyboard/__init__.py?line=198'>199</a>\u001b[0m     \u001b[39mself\u001b[39m\u001b[39m.\u001b[39mblocking_hooks \u001b[39m=\u001b[39m []\n",
      "File \u001b[0;32m~/.local/lib/python3.9/site-packages/keyboard/_nixkeyboard.py:113\u001b[0m, in \u001b[0;36minit\u001b[0;34m()\u001b[0m\n\u001b[1;32m    <a href='file:///home/pi/.local/lib/python3.9/site-packages/keyboard/_nixkeyboard.py?line=111'>112</a>\u001b[0m \u001b[39mdef\u001b[39;00m \u001b[39minit\u001b[39m():\n\u001b[0;32m--> <a href='file:///home/pi/.local/lib/python3.9/site-packages/keyboard/_nixkeyboard.py?line=112'>113</a>\u001b[0m     build_device()\n\u001b[1;32m    <a href='file:///home/pi/.local/lib/python3.9/site-packages/keyboard/_nixkeyboard.py?line=113'>114</a>\u001b[0m     build_tables()\n",
      "File \u001b[0;32m~/.local/lib/python3.9/site-packages/keyboard/_nixkeyboard.py:109\u001b[0m, in \u001b[0;36mbuild_device\u001b[0;34m()\u001b[0m\n\u001b[1;32m    <a href='file:///home/pi/.local/lib/python3.9/site-packages/keyboard/_nixkeyboard.py?line=106'>107</a>\u001b[0m \u001b[39mglobal\u001b[39;00m device\n\u001b[1;32m    <a href='file:///home/pi/.local/lib/python3.9/site-packages/keyboard/_nixkeyboard.py?line=107'>108</a>\u001b[0m \u001b[39mif\u001b[39;00m device: \u001b[39mreturn\u001b[39;00m\n\u001b[0;32m--> <a href='file:///home/pi/.local/lib/python3.9/site-packages/keyboard/_nixkeyboard.py?line=108'>109</a>\u001b[0m ensure_root()\n\u001b[1;32m    <a href='file:///home/pi/.local/lib/python3.9/site-packages/keyboard/_nixkeyboard.py?line=109'>110</a>\u001b[0m device \u001b[39m=\u001b[39m aggregate_devices(\u001b[39m'\u001b[39m\u001b[39mkbd\u001b[39m\u001b[39m'\u001b[39m)\n",
      "File \u001b[0;32m~/.local/lib/python3.9/site-packages/keyboard/_nixcommon.py:174\u001b[0m, in \u001b[0;36mensure_root\u001b[0;34m()\u001b[0m\n\u001b[1;32m    <a href='file:///home/pi/.local/lib/python3.9/site-packages/keyboard/_nixcommon.py?line=171'>172</a>\u001b[0m \u001b[39mdef\u001b[39;00m \u001b[39mensure_root\u001b[39m():\n\u001b[1;32m    <a href='file:///home/pi/.local/lib/python3.9/site-packages/keyboard/_nixcommon.py?line=172'>173</a>\u001b[0m     \u001b[39mif\u001b[39;00m os\u001b[39m.\u001b[39mgeteuid() \u001b[39m!=\u001b[39m \u001b[39m0\u001b[39m:\n\u001b[0;32m--> <a href='file:///home/pi/.local/lib/python3.9/site-packages/keyboard/_nixcommon.py?line=173'>174</a>\u001b[0m         \u001b[39mraise\u001b[39;00m \u001b[39mImportError\u001b[39;00m(\u001b[39m'\u001b[39m\u001b[39mYou must be root to use this library on linux.\u001b[39m\u001b[39m'\u001b[39m)\n",
      "\u001b[0;31mImportError\u001b[0m: You must be root to use this library on linux."
     ]
    }
   ],
   "source": [
    "while True:\n",
    "    if keyboard.read_key() == \"p\":\n",
    "        print(\"You pressed p\")\n",
    "        break\n"
   ]
  },
  {
   "cell_type": "code",
   "execution_count": 1,
   "metadata": {},
   "outputs": [],
   "source": [
    "import requests"
   ]
  },
  {
   "cell_type": "code",
   "execution_count": 2,
   "metadata": {},
   "outputs": [],
   "source": [
    "r = requests.get('https://tarant-transformation-engine.fly.dev/session')"
   ]
  },
  {
   "cell_type": "code",
   "execution_count": 4,
   "metadata": {},
   "outputs": [
    {
     "data": {
      "text/plain": [
       "{'sessionId': '7dce6f8d-e3a9-49d2-ace3-0e7f3ad86b58'}"
      ]
     },
     "execution_count": 4,
     "metadata": {},
     "output_type": "execute_result"
    }
   ],
   "source": [
    "r.json()"
   ]
  },
  {
   "cell_type": "code",
   "execution_count": null,
   "metadata": {},
   "outputs": [],
   "source": [
    "session_id = r.json().get(\"sessionId\")"
   ]
  }
 ],
 "metadata": {
  "interpreter": {
   "hash": "e7370f93d1d0cde622a1f8e1c04877d8463912d04d973331ad4851f04de6915a"
  },
  "kernelspec": {
   "display_name": "Python 3.9.2 32-bit",
   "language": "python",
   "name": "python3"
  },
  "language_info": {
   "codemirror_mode": {
    "name": "ipython",
    "version": 3
   },
   "file_extension": ".py",
   "mimetype": "text/x-python",
   "name": "python",
   "nbconvert_exporter": "python",
   "pygments_lexer": "ipython3",
   "version": "3.9.2"
  },
  "orig_nbformat": 4
 },
 "nbformat": 4,
 "nbformat_minor": 2
}
